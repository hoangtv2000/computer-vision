{
  "nbformat": 4,
  "nbformat_minor": 0,
  "metadata": {
    "colab": {
      "name": "bai_2.ipynb",
      "provenance": [],
      "collapsed_sections": [],
      "toc_visible": true
    },
    "kernelspec": {
      "name": "python3",
      "display_name": "Python 3"
    },
    "language_info": {
      "name": "python"
    }
  },
  "cells": [
    {
      "cell_type": "code",
      "metadata": {
        "colab": {
          "base_uri": "https://localhost:8080/"
        },
        "id": "MPj1Vygt6oR3",
        "outputId": "47d822c3-2875-4420-f7b1-ab1192179e47"
      },
      "source": [
        "from google.colab import drive\n",
        "drive.mount('/content/gdrive')"
      ],
      "execution_count": null,
      "outputs": [
        {
          "output_type": "stream",
          "text": [
            "Mounted at /content/gdrive\n"
          ],
          "name": "stdout"
        }
      ]
    },
    {
      "cell_type": "code",
      "metadata": {
        "colab": {
          "base_uri": "https://localhost:8080/"
        },
        "id": "fY9tGQB6Evuu",
        "outputId": "a6fd9dbc-e913-4128-b0a6-5fc8acf4fd03"
      },
      "source": [
        "!pip install opencv-python==3.4.2.17 opencv-contrib-python==3.4.2.17"
      ],
      "execution_count": null,
      "outputs": [
        {
          "output_type": "stream",
          "text": [
            "Collecting opencv-python==3.4.2.17\n",
            "\u001b[?25l  Downloading https://files.pythonhosted.org/packages/8f/8f/a5d2fa3a3309c4e4aa28eb989d81a95b57c63406b4d439758a1a0a810c77/opencv_python-3.4.2.17-cp37-cp37m-manylinux1_x86_64.whl (25.0MB)\n",
            "\u001b[K     |████████████████████████████████| 25.0MB 166kB/s \n",
            "\u001b[?25hCollecting opencv-contrib-python==3.4.2.17\n",
            "\u001b[?25l  Downloading https://files.pythonhosted.org/packages/12/32/8d32d40cd35e61c80cb112ef5e8dbdcfbb06124f36a765df98517a12e753/opencv_contrib_python-3.4.2.17-cp37-cp37m-manylinux1_x86_64.whl (30.6MB)\n",
            "\u001b[K     |████████████████████████████████| 30.6MB 101kB/s \n",
            "\u001b[?25hRequirement already satisfied: numpy>=1.14.5 in /usr/local/lib/python3.7/dist-packages (from opencv-python==3.4.2.17) (1.19.5)\n",
            "\u001b[31mERROR: albumentations 0.1.12 has requirement imgaug<0.2.7,>=0.2.5, but you'll have imgaug 0.2.9 which is incompatible.\u001b[0m\n",
            "Installing collected packages: opencv-python, opencv-contrib-python\n",
            "  Found existing installation: opencv-python 4.1.2.30\n",
            "    Uninstalling opencv-python-4.1.2.30:\n",
            "      Successfully uninstalled opencv-python-4.1.2.30\n",
            "  Found existing installation: opencv-contrib-python 4.1.2.30\n",
            "    Uninstalling opencv-contrib-python-4.1.2.30:\n",
            "      Successfully uninstalled opencv-contrib-python-4.1.2.30\n",
            "Successfully installed opencv-contrib-python-3.4.2.17 opencv-python-3.4.2.17\n"
          ],
          "name": "stdout"
        }
      ]
    },
    {
      "cell_type": "code",
      "metadata": {
        "id": "CWHD4DZd7VdO"
      },
      "source": [
        "import os\n",
        "import cv2 \n",
        "import numpy as np\n",
        "from google.colab.patches import cv2_imshow\n",
        "\n",
        "\"\"\"TRAIN\n",
        "\"\"\"\n",
        "train_path = '/content/gdrive/MyDrive/CS331.L22.KHCL/Dataset/DogCatSimple/train/'\n",
        "\n",
        "\"\"\"TEST\n",
        "\"\"\"\n",
        "test_path = '/content/gdrive/MyDrive/CS331.L22.KHCL/Dataset/DogCatSimple/test/'"
      ],
      "execution_count": null,
      "outputs": []
    },
    {
      "cell_type": "code",
      "metadata": {
        "id": "fxmWd8knJYwp"
      },
      "source": [
        "test_lb =   {\n",
        "  \"1\": \"dog\",   \"2\": \"dog\",   \"3\": \"dog\",   \"4\": \"dog\",   \"5\": \"cat\",\n",
        "  \"6\": \"cat\",   \"7\": \"cat\",   \"8\": \"cat\",   \"9\": \"cat\",   \"10\": \"cat\",\n",
        "  \"11\": \"cat\",  \"12\": \"dog\",  \"13\": \"cat\",  \"14\": \"cat\",  \"15\": \"cat\", \n",
        "  \"16\": \"cat\",  \"17\": \"dog\",  \"18\": \"dog\",  \"19\": \"cat\",  \"20\": \"cat\",\n",
        "}"
      ],
      "execution_count": null,
      "outputs": []
    },
    {
      "cell_type": "markdown",
      "metadata": {
        "id": "rIqXVKQHw1Ye"
      },
      "source": [
        "## Indexing/labeling each image and computer descriptors"
      ]
    },
    {
      "cell_type": "code",
      "metadata": {
        "id": "Nkkscoy3q9cc"
      },
      "source": [
        "\"\"\"INDEX FILES\n",
        "\"\"\"\n",
        "def index_files(file_path):\n",
        "    id_file_path = dict()\n",
        "    img_path = []\n",
        "    for image_name in os.listdir(file_path):\n",
        "        img_path.append(os.path.join(file_path + image_name))\n",
        "    for id, image in enumerate(img_path):\n",
        "        id_file_path[id] = image\n",
        "    \n",
        "    return id_file_path\n",
        "\n",
        "\n",
        "\"\"\"GET LABELS\n",
        "\"\"\"\n",
        "def get_labels(id_file_path):\n",
        "    id_and_label_dict = dict()\n",
        "    for id, file_path in id_file_path.items():\n",
        "        file_name = os.path.basename(file_path)\n",
        "        id_and_label_dict[id] = file_name[0:3]\n",
        "\n",
        "    return id_and_label_dict\n",
        "\n",
        "\n",
        "\"\"\"COMPUTE DESCRIPTORS\n",
        "\"\"\"\n",
        "sift_descriptor = cv2.xfeatures2d.SIFT_create()\n",
        "from skimage.feature import hog\n",
        "from skimage.transform import resize\n",
        " \n",
        "\n",
        "def get_descriptor(id_and_label_dict, mode=None):\n",
        "    descriptor_id_label = dict()\n",
        "    for id, path in id_and_label_dict.items():\n",
        "        try:\n",
        "            image = cv2.imread(path)\n",
        "            gray_image = cv2.cvtColor(image, cv2.COLOR_BGR2GRAY)\n",
        "            if mode == 'SIFT':\n",
        "                (kps, descriptors) = sift_descriptor.detectAndCompute(image, None)\n",
        "                if descriptors is not None:\n",
        "                    descriptor_id_label[id] = descriptors\n",
        "            if mode == 'HOG':\n",
        "                resized_img = resize(gray_image, (256, 256))\n",
        "                descriptors, _ =  hog(resized_img, orientations=9, pixels_per_cell=(8, 8), cells_per_block=(2, 2), visualize=True, multichannel=False)  \n",
        "                if descriptors is not None:\n",
        "                    descriptor_id_label[id] = descriptors\n",
        "        except:\n",
        "            continue\n",
        "\n",
        "    return descriptor_id_label"
      ],
      "execution_count": null,
      "outputs": []
    },
    {
      "cell_type": "code",
      "metadata": {
        "id": "i3AwH3GTxWHt"
      },
      "source": [
        "# EXECUTING\n",
        "# to do: choose 'sift' or 'hog' feature extractor mode.\n",
        "id_train_path = index_files(train_path)\n",
        "id_test_path = index_files(test_path)\n",
        "\n",
        "id_and_train_dict = get_labels(id_train_path)\n",
        "id_and_test_dict = get_labels(id_test_path)\n",
        "\n",
        "descriptor_id_train = get_descriptor(id_train_path, mode='SIFT')\n",
        "descriptor_id_test = get_descriptor(id_test_path, mode='SIFT')"
      ],
      "execution_count": null,
      "outputs": []
    },
    {
      "cell_type": "markdown",
      "metadata": {
        "id": "G97AZHLN4q-v"
      },
      "source": [
        "## Create BAG OF VISUAL WORDS"
      ]
    },
    {
      "cell_type": "code",
      "metadata": {
        "id": "8P_zzsEjNT0X"
      },
      "source": [
        "def stack_descriptors(descriptor_of_imgs):\n",
        "    result = descriptor_of_imgs[0]\n",
        "    for des in descriptor_of_imgs[1:]:\n",
        "        result = np.vstack((result, des))\n",
        "    return result"
      ],
      "execution_count": null,
      "outputs": []
    },
    {
      "cell_type": "code",
      "metadata": {
        "id": "Nh6Ep1JnRMNs",
        "colab": {
          "base_uri": "https://localhost:8080/"
        },
        "outputId": "eb259718-2f63-4ffa-f749-9b4d7e1f322d"
      },
      "source": [
        "from sklearn.cluster import KMeans\n",
        "kmeans = KMeans(n_clusters = 60)\n",
        "\n",
        "## EXECUTING\n",
        "stacked_descriptor_train = stack_descriptors(list(descriptor_id_train.values()))\n",
        "stacked_descriptor_test = stack_descriptors(list(descriptor_id_test.values()))\n",
        "\n",
        "vocab_descriptor = np.vstack((stacked_descriptor_train, stacked_descriptor_test))\n",
        "\n",
        "kmeans.fit(vocab_descriptor)"
      ],
      "execution_count": null,
      "outputs": [
        {
          "output_type": "execute_result",
          "data": {
            "text/plain": [
              "KMeans(algorithm='auto', copy_x=True, init='k-means++', max_iter=300,\n",
              "       n_clusters=60, n_init=10, n_jobs=None, precompute_distances='auto',\n",
              "       random_state=None, tol=0.0001, verbose=0)"
            ]
          },
          "metadata": {
            "tags": []
          },
          "execution_count": 57
        }
      ]
    },
    {
      "cell_type": "markdown",
      "metadata": {
        "id": "wI3J6EHi8k5K"
      },
      "source": [
        "# Build histogram"
      ]
    },
    {
      "cell_type": "code",
      "metadata": {
        "id": "dDapMfwF8kYk"
      },
      "source": [
        "\"\"\"BUILD HISTOGRAM\n",
        "\"\"\"\n",
        "def build_his(descriptors, kmeans):\n",
        "    histogram = np.zeros(len(kmeans.cluster_centers_))\n",
        "    cluster_result =  kmeans.predict(descriptors)\n",
        "    for i in cluster_result:\n",
        "        histogram[i] += 1.0\n",
        "\n",
        "    return histogram\n",
        "\n",
        "def build_his_4all(descriptor_id, kmeans):\n",
        "    his_id_list = dict()\n",
        "    for id, descriptor in descriptor_id.items():     \n",
        "        if (descriptor is not None):\n",
        "            histogram = build_his(descriptor, kmeans)\n",
        "            his_id_list[id] = histogram\n",
        "  \n",
        "    return his_id_list\n",
        "\n",
        "\n",
        "\"\"\"NORMALIZE\n",
        "\"\"\"\n",
        "def normalize(vectors, descriptors):\n",
        "  for id, vector in vectors.items():\n",
        "    vectors[id] = vectors[id] / len(descriptors[id])"
      ],
      "execution_count": null,
      "outputs": []
    },
    {
      "cell_type": "code",
      "metadata": {
        "id": "ZghcWbAY-Iqy"
      },
      "source": [
        "his_id_train = build_his_4all(descriptor_id_train, kmeans)\n",
        "his_id_test = build_his_4all(descriptor_id_test, kmeans)\n",
        "\n",
        "normalize(his_id_train, descriptor_id_train)\n",
        "normalize(his_id_test, descriptor_id_test)"
      ],
      "execution_count": null,
      "outputs": []
    },
    {
      "cell_type": "markdown",
      "metadata": {
        "id": "B-euALXWBt3W"
      },
      "source": [
        "## Separate to each label and train/test feature"
      ]
    },
    {
      "cell_type": "code",
      "metadata": {
        "id": "NA0jItWcBrDI"
      },
      "source": [
        "def his_n_label_train(histograms, labels):\n",
        "    histogram_list = list()\n",
        "    label_list = list()\n",
        "    for id, label in labels.items():\n",
        "        histogram_list.append(histograms[id])\n",
        "        label_list.append(label)\n",
        "  \n",
        "    return histogram_list, label_list"
      ],
      "execution_count": null,
      "outputs": []
    },
    {
      "cell_type": "code",
      "metadata": {
        "id": "L0G9UsXQCgHt"
      },
      "source": [
        "def his_n_label_test(histograms, id_and_file_paths, true_label):\n",
        "    histogram_list = list()\n",
        "    label_list = list()\n",
        "\n",
        "    for id, file_path in id_and_file_paths.items():\n",
        "        file_name = os.path.basename(file_path)\n",
        "        index = os.path.splitext(file_name)[0]\n",
        "        label = true_label[index]\n",
        "\n",
        "        histogram_list.append(histograms[id])\n",
        "        label_list.append(label)\n",
        "        \n",
        "\n",
        "    return histogram_list, label_list"
      ],
      "execution_count": null,
      "outputs": []
    },
    {
      "cell_type": "code",
      "metadata": {
        "id": "YfsQ96YNDQvA"
      },
      "source": [
        "feature_train, label_train = his_n_label_train(his_id_train, id_and_train_dict)\n",
        "feature_test, label_test = his_n_label_test(his_id_test, id_and_test_dict, test_lb)"
      ],
      "execution_count": null,
      "outputs": []
    },
    {
      "cell_type": "markdown",
      "metadata": {
        "id": "udGeuMyxGUYi"
      },
      "source": [
        "## Train and predict!"
      ]
    },
    {
      "cell_type": "code",
      "metadata": {
        "colab": {
          "base_uri": "https://localhost:8080/"
        },
        "id": "ve0NGJpSGVcA",
        "outputId": "1d3389a7-a35c-40bc-f929-6fab97c9f482"
      },
      "source": [
        "from sklearn.svm import SVC\n",
        "\n",
        "svm = SVC()\n",
        "svm.fit(feature_train, label_train)"
      ],
      "execution_count": null,
      "outputs": [
        {
          "output_type": "execute_result",
          "data": {
            "text/plain": [
              "SVC(C=1.0, break_ties=False, cache_size=200, class_weight=None, coef0=0.0,\n",
              "    decision_function_shape='ovr', degree=3, gamma='scale', kernel='rbf',\n",
              "    max_iter=-1, probability=False, random_state=None, shrinking=True,\n",
              "    tol=0.001, verbose=False)"
            ]
          },
          "metadata": {
            "tags": []
          },
          "execution_count": 148
        }
      ]
    },
    {
      "cell_type": "code",
      "metadata": {
        "id": "VyWyNfQZGlrT"
      },
      "source": [
        "prediction = svm.predict(feature_test)"
      ],
      "execution_count": null,
      "outputs": []
    },
    {
      "cell_type": "code",
      "metadata": {
        "colab": {
          "base_uri": "https://localhost:8080/"
        },
        "id": "LDfqwXyALy7t",
        "outputId": "aef4454e-9989-4667-efe9-62ae384832cd"
      },
      "source": [
        "\"\"\"SIFT DESCRIPTOR RESULTS.\n",
        "\"\"\"\n",
        "from sklearn.metrics import accuracy_score\n",
        "from sklearn.metrics import f1_score\n",
        "from sklearn.metrics import precision_score\n",
        "from sklearn.metrics import recall_score\n",
        "\n",
        "\"\"\"Results of SIFT descriptor.\n",
        "\"\"\"\n",
        "print('Accuracy score: ', accuracy_score(label_test, prediction))\n",
        "print('Pre score: ', precision_score(label_test, prediction, pos_label='cat'))\n",
        "print('Rec score: ', recall_score(label_test, prediction, pos_label='cat'))\n",
        "print('F1 score: ', f1_score(label_test, prediction, pos_label='cat'))"
      ],
      "execution_count": null,
      "outputs": [
        {
          "output_type": "stream",
          "text": [
            "Accuracy score:  0.65\n",
            "Pre score:  0.7142857142857143\n",
            "Rec score:  0.7692307692307693\n",
            "F1 score:  0.7407407407407408\n"
          ],
          "name": "stdout"
        }
      ]
    }
  ]
}